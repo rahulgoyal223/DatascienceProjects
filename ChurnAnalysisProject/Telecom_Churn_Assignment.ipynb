{
 "cells": [
  {
   "cell_type": "code",
   "execution_count": 332,
   "metadata": {},
   "outputs": [],
   "source": [
    "import numpy as np\n",
    "import pandas as pd\n",
    "import seaborn as sns\n",
    "import matplotlib.pyplot as plt\n",
    "\n",
    "import warnings\n",
    "warnings.filterwarnings(\"ignore\")"
   ]
  },
  {
   "cell_type": "code",
   "execution_count": 333,
   "metadata": {},
   "outputs": [],
   "source": [
    "df = pd.read_csv('telecom_churn_data.csv')"
   ]
  },
  {
   "cell_type": "code",
   "execution_count": 334,
   "metadata": {},
   "outputs": [
    {
     "data": {
      "text/html": [
       "<div>\n",
       "<style scoped>\n",
       "    .dataframe tbody tr th:only-of-type {\n",
       "        vertical-align: middle;\n",
       "    }\n",
       "\n",
       "    .dataframe tbody tr th {\n",
       "        vertical-align: top;\n",
       "    }\n",
       "\n",
       "    .dataframe thead th {\n",
       "        text-align: right;\n",
       "    }\n",
       "</style>\n",
       "<table border=\"1\" class=\"dataframe\">\n",
       "  <thead>\n",
       "    <tr style=\"text-align: right;\">\n",
       "      <th></th>\n",
       "      <th>mobile_number</th>\n",
       "      <th>circle_id</th>\n",
       "      <th>loc_og_t2o_mou</th>\n",
       "      <th>std_og_t2o_mou</th>\n",
       "      <th>loc_ic_t2o_mou</th>\n",
       "      <th>last_date_of_month_6</th>\n",
       "      <th>last_date_of_month_7</th>\n",
       "      <th>last_date_of_month_8</th>\n",
       "      <th>last_date_of_month_9</th>\n",
       "      <th>arpu_6</th>\n",
       "      <th>...</th>\n",
       "      <th>sachet_3g_9</th>\n",
       "      <th>fb_user_6</th>\n",
       "      <th>fb_user_7</th>\n",
       "      <th>fb_user_8</th>\n",
       "      <th>fb_user_9</th>\n",
       "      <th>aon</th>\n",
       "      <th>aug_vbc_3g</th>\n",
       "      <th>jul_vbc_3g</th>\n",
       "      <th>jun_vbc_3g</th>\n",
       "      <th>sep_vbc_3g</th>\n",
       "    </tr>\n",
       "  </thead>\n",
       "  <tbody>\n",
       "    <tr>\n",
       "      <td>0</td>\n",
       "      <td>7000842753</td>\n",
       "      <td>109</td>\n",
       "      <td>0.0</td>\n",
       "      <td>0.0</td>\n",
       "      <td>0.0</td>\n",
       "      <td>6/30/2014</td>\n",
       "      <td>7/31/2014</td>\n",
       "      <td>8/31/2014</td>\n",
       "      <td>9/30/2014</td>\n",
       "      <td>197.385</td>\n",
       "      <td>...</td>\n",
       "      <td>0</td>\n",
       "      <td>1.0</td>\n",
       "      <td>1.0</td>\n",
       "      <td>1.0</td>\n",
       "      <td>NaN</td>\n",
       "      <td>968</td>\n",
       "      <td>30.4</td>\n",
       "      <td>0.0</td>\n",
       "      <td>101.20</td>\n",
       "      <td>3.58</td>\n",
       "    </tr>\n",
       "    <tr>\n",
       "      <td>1</td>\n",
       "      <td>7001865778</td>\n",
       "      <td>109</td>\n",
       "      <td>0.0</td>\n",
       "      <td>0.0</td>\n",
       "      <td>0.0</td>\n",
       "      <td>6/30/2014</td>\n",
       "      <td>7/31/2014</td>\n",
       "      <td>8/31/2014</td>\n",
       "      <td>9/30/2014</td>\n",
       "      <td>34.047</td>\n",
       "      <td>...</td>\n",
       "      <td>0</td>\n",
       "      <td>NaN</td>\n",
       "      <td>1.0</td>\n",
       "      <td>1.0</td>\n",
       "      <td>NaN</td>\n",
       "      <td>1006</td>\n",
       "      <td>0.0</td>\n",
       "      <td>0.0</td>\n",
       "      <td>0.00</td>\n",
       "      <td>0.00</td>\n",
       "    </tr>\n",
       "    <tr>\n",
       "      <td>2</td>\n",
       "      <td>7001625959</td>\n",
       "      <td>109</td>\n",
       "      <td>0.0</td>\n",
       "      <td>0.0</td>\n",
       "      <td>0.0</td>\n",
       "      <td>6/30/2014</td>\n",
       "      <td>7/31/2014</td>\n",
       "      <td>8/31/2014</td>\n",
       "      <td>9/30/2014</td>\n",
       "      <td>167.690</td>\n",
       "      <td>...</td>\n",
       "      <td>0</td>\n",
       "      <td>NaN</td>\n",
       "      <td>NaN</td>\n",
       "      <td>NaN</td>\n",
       "      <td>1.0</td>\n",
       "      <td>1103</td>\n",
       "      <td>0.0</td>\n",
       "      <td>0.0</td>\n",
       "      <td>4.17</td>\n",
       "      <td>0.00</td>\n",
       "    </tr>\n",
       "    <tr>\n",
       "      <td>3</td>\n",
       "      <td>7001204172</td>\n",
       "      <td>109</td>\n",
       "      <td>0.0</td>\n",
       "      <td>0.0</td>\n",
       "      <td>0.0</td>\n",
       "      <td>6/30/2014</td>\n",
       "      <td>7/31/2014</td>\n",
       "      <td>8/31/2014</td>\n",
       "      <td>9/30/2014</td>\n",
       "      <td>221.338</td>\n",
       "      <td>...</td>\n",
       "      <td>0</td>\n",
       "      <td>NaN</td>\n",
       "      <td>NaN</td>\n",
       "      <td>NaN</td>\n",
       "      <td>NaN</td>\n",
       "      <td>2491</td>\n",
       "      <td>0.0</td>\n",
       "      <td>0.0</td>\n",
       "      <td>0.00</td>\n",
       "      <td>0.00</td>\n",
       "    </tr>\n",
       "    <tr>\n",
       "      <td>4</td>\n",
       "      <td>7000142493</td>\n",
       "      <td>109</td>\n",
       "      <td>0.0</td>\n",
       "      <td>0.0</td>\n",
       "      <td>0.0</td>\n",
       "      <td>6/30/2014</td>\n",
       "      <td>7/31/2014</td>\n",
       "      <td>8/31/2014</td>\n",
       "      <td>9/30/2014</td>\n",
       "      <td>261.636</td>\n",
       "      <td>...</td>\n",
       "      <td>0</td>\n",
       "      <td>0.0</td>\n",
       "      <td>NaN</td>\n",
       "      <td>NaN</td>\n",
       "      <td>NaN</td>\n",
       "      <td>1526</td>\n",
       "      <td>0.0</td>\n",
       "      <td>0.0</td>\n",
       "      <td>0.00</td>\n",
       "      <td>0.00</td>\n",
       "    </tr>\n",
       "  </tbody>\n",
       "</table>\n",
       "<p>5 rows × 226 columns</p>\n",
       "</div>"
      ],
      "text/plain": [
       "   mobile_number  circle_id  loc_og_t2o_mou  std_og_t2o_mou  loc_ic_t2o_mou  \\\n",
       "0     7000842753        109             0.0             0.0             0.0   \n",
       "1     7001865778        109             0.0             0.0             0.0   \n",
       "2     7001625959        109             0.0             0.0             0.0   \n",
       "3     7001204172        109             0.0             0.0             0.0   \n",
       "4     7000142493        109             0.0             0.0             0.0   \n",
       "\n",
       "  last_date_of_month_6 last_date_of_month_7 last_date_of_month_8  \\\n",
       "0            6/30/2014            7/31/2014            8/31/2014   \n",
       "1            6/30/2014            7/31/2014            8/31/2014   \n",
       "2            6/30/2014            7/31/2014            8/31/2014   \n",
       "3            6/30/2014            7/31/2014            8/31/2014   \n",
       "4            6/30/2014            7/31/2014            8/31/2014   \n",
       "\n",
       "  last_date_of_month_9   arpu_6  ...  sachet_3g_9  fb_user_6  fb_user_7  \\\n",
       "0            9/30/2014  197.385  ...            0        1.0        1.0   \n",
       "1            9/30/2014   34.047  ...            0        NaN        1.0   \n",
       "2            9/30/2014  167.690  ...            0        NaN        NaN   \n",
       "3            9/30/2014  221.338  ...            0        NaN        NaN   \n",
       "4            9/30/2014  261.636  ...            0        0.0        NaN   \n",
       "\n",
       "   fb_user_8  fb_user_9   aon  aug_vbc_3g  jul_vbc_3g  jun_vbc_3g  sep_vbc_3g  \n",
       "0        1.0        NaN   968        30.4         0.0      101.20        3.58  \n",
       "1        1.0        NaN  1006         0.0         0.0        0.00        0.00  \n",
       "2        NaN        1.0  1103         0.0         0.0        4.17        0.00  \n",
       "3        NaN        NaN  2491         0.0         0.0        0.00        0.00  \n",
       "4        NaN        NaN  1526         0.0         0.0        0.00        0.00  \n",
       "\n",
       "[5 rows x 226 columns]"
      ]
     },
     "execution_count": 334,
     "metadata": {},
     "output_type": "execute_result"
    }
   ],
   "source": [
    "df.head()"
   ]
  },
  {
   "cell_type": "markdown",
   "metadata": {},
   "source": [
    "**Data Cleaning Steps:**\n",
    "- Mobile No should be unique\n",
    "- arpu_6, arpu_7 are important"
   ]
  },
  {
   "cell_type": "code",
   "execution_count": 335,
   "metadata": {},
   "outputs": [
    {
     "name": "stdout",
     "output_type": "stream",
     "text": [
      "<class 'pandas.core.frame.DataFrame'>\n",
      "RangeIndex: 99999 entries, 0 to 99998\n",
      "Columns: 226 entries, mobile_number to sep_vbc_3g\n",
      "dtypes: float64(179), int64(35), object(12)\n",
      "memory usage: 172.4+ MB\n"
     ]
    }
   ],
   "source": [
    "df.info()"
   ]
  },
  {
   "cell_type": "code",
   "execution_count": 336,
   "metadata": {},
   "outputs": [
    {
     "name": "stdout",
     "output_type": "stream",
     "text": [
      "['mobile_number', 'circle_id', 'loc_og_t2o_mou', 'std_og_t2o_mou', 'loc_ic_t2o_mou', 'last_date_of_month_6', 'last_date_of_month_7', 'last_date_of_month_8', 'last_date_of_month_9', 'arpu_6', 'arpu_7', 'arpu_8', 'arpu_9', 'onnet_mou_6', 'onnet_mou_7', 'onnet_mou_8', 'onnet_mou_9', 'offnet_mou_6', 'offnet_mou_7', 'offnet_mou_8', 'offnet_mou_9', 'roam_ic_mou_6', 'roam_ic_mou_7', 'roam_ic_mou_8', 'roam_ic_mou_9', 'roam_og_mou_6', 'roam_og_mou_7', 'roam_og_mou_8', 'roam_og_mou_9', 'loc_og_t2t_mou_6', 'loc_og_t2t_mou_7', 'loc_og_t2t_mou_8', 'loc_og_t2t_mou_9', 'loc_og_t2m_mou_6', 'loc_og_t2m_mou_7', 'loc_og_t2m_mou_8', 'loc_og_t2m_mou_9', 'loc_og_t2f_mou_6', 'loc_og_t2f_mou_7', 'loc_og_t2f_mou_8', 'loc_og_t2f_mou_9', 'loc_og_t2c_mou_6', 'loc_og_t2c_mou_7', 'loc_og_t2c_mou_8', 'loc_og_t2c_mou_9', 'loc_og_mou_6', 'loc_og_mou_7', 'loc_og_mou_8', 'loc_og_mou_9', 'std_og_t2t_mou_6', 'std_og_t2t_mou_7', 'std_og_t2t_mou_8', 'std_og_t2t_mou_9', 'std_og_t2m_mou_6', 'std_og_t2m_mou_7', 'std_og_t2m_mou_8', 'std_og_t2m_mou_9', 'std_og_t2f_mou_6', 'std_og_t2f_mou_7', 'std_og_t2f_mou_8', 'std_og_t2f_mou_9', 'std_og_t2c_mou_6', 'std_og_t2c_mou_7', 'std_og_t2c_mou_8', 'std_og_t2c_mou_9', 'std_og_mou_6', 'std_og_mou_7', 'std_og_mou_8', 'std_og_mou_9', 'isd_og_mou_6', 'isd_og_mou_7', 'isd_og_mou_8', 'isd_og_mou_9', 'spl_og_mou_6', 'spl_og_mou_7', 'spl_og_mou_8', 'spl_og_mou_9', 'og_others_6', 'og_others_7', 'og_others_8', 'og_others_9', 'total_og_mou_6', 'total_og_mou_7', 'total_og_mou_8', 'total_og_mou_9', 'loc_ic_t2t_mou_6', 'loc_ic_t2t_mou_7', 'loc_ic_t2t_mou_8', 'loc_ic_t2t_mou_9', 'loc_ic_t2m_mou_6', 'loc_ic_t2m_mou_7', 'loc_ic_t2m_mou_8', 'loc_ic_t2m_mou_9', 'loc_ic_t2f_mou_6', 'loc_ic_t2f_mou_7', 'loc_ic_t2f_mou_8', 'loc_ic_t2f_mou_9', 'loc_ic_mou_6', 'loc_ic_mou_7', 'loc_ic_mou_8', 'loc_ic_mou_9', 'std_ic_t2t_mou_6', 'std_ic_t2t_mou_7', 'std_ic_t2t_mou_8', 'std_ic_t2t_mou_9', 'std_ic_t2m_mou_6', 'std_ic_t2m_mou_7', 'std_ic_t2m_mou_8', 'std_ic_t2m_mou_9', 'std_ic_t2f_mou_6', 'std_ic_t2f_mou_7', 'std_ic_t2f_mou_8', 'std_ic_t2f_mou_9', 'std_ic_t2o_mou_6', 'std_ic_t2o_mou_7', 'std_ic_t2o_mou_8', 'std_ic_t2o_mou_9', 'std_ic_mou_6', 'std_ic_mou_7', 'std_ic_mou_8', 'std_ic_mou_9', 'total_ic_mou_6', 'total_ic_mou_7', 'total_ic_mou_8', 'total_ic_mou_9', 'spl_ic_mou_6', 'spl_ic_mou_7', 'spl_ic_mou_8', 'spl_ic_mou_9', 'isd_ic_mou_6', 'isd_ic_mou_7', 'isd_ic_mou_8', 'isd_ic_mou_9', 'ic_others_6', 'ic_others_7', 'ic_others_8', 'ic_others_9', 'total_rech_num_6', 'total_rech_num_7', 'total_rech_num_8', 'total_rech_num_9', 'total_rech_amt_6', 'total_rech_amt_7', 'total_rech_amt_8', 'total_rech_amt_9', 'max_rech_amt_6', 'max_rech_amt_7', 'max_rech_amt_8', 'max_rech_amt_9', 'date_of_last_rech_6', 'date_of_last_rech_7', 'date_of_last_rech_8', 'date_of_last_rech_9', 'last_day_rch_amt_6', 'last_day_rch_amt_7', 'last_day_rch_amt_8', 'last_day_rch_amt_9', 'date_of_last_rech_data_6', 'date_of_last_rech_data_7', 'date_of_last_rech_data_8', 'date_of_last_rech_data_9', 'total_rech_data_6', 'total_rech_data_7', 'total_rech_data_8', 'total_rech_data_9', 'max_rech_data_6', 'max_rech_data_7', 'max_rech_data_8', 'max_rech_data_9', 'count_rech_2g_6', 'count_rech_2g_7', 'count_rech_2g_8', 'count_rech_2g_9', 'count_rech_3g_6', 'count_rech_3g_7', 'count_rech_3g_8', 'count_rech_3g_9', 'av_rech_amt_data_6', 'av_rech_amt_data_7', 'av_rech_amt_data_8', 'av_rech_amt_data_9', 'vol_2g_mb_6', 'vol_2g_mb_7', 'vol_2g_mb_8', 'vol_2g_mb_9', 'vol_3g_mb_6', 'vol_3g_mb_7', 'vol_3g_mb_8', 'vol_3g_mb_9', 'arpu_3g_6', 'arpu_3g_7', 'arpu_3g_8', 'arpu_3g_9', 'arpu_2g_6', 'arpu_2g_7', 'arpu_2g_8', 'arpu_2g_9', 'night_pck_user_6', 'night_pck_user_7', 'night_pck_user_8', 'night_pck_user_9', 'monthly_2g_6', 'monthly_2g_7', 'monthly_2g_8', 'monthly_2g_9', 'sachet_2g_6', 'sachet_2g_7', 'sachet_2g_8', 'sachet_2g_9', 'monthly_3g_6', 'monthly_3g_7', 'monthly_3g_8', 'monthly_3g_9', 'sachet_3g_6', 'sachet_3g_7', 'sachet_3g_8', 'sachet_3g_9', 'fb_user_6', 'fb_user_7', 'fb_user_8', 'fb_user_9', 'aon', 'aug_vbc_3g', 'jul_vbc_3g', 'jun_vbc_3g', 'sep_vbc_3g']\n"
     ]
    }
   ],
   "source": [
    "print(list(df.columns))"
   ]
  },
  {
   "cell_type": "code",
   "execution_count": 337,
   "metadata": {},
   "outputs": [
    {
     "data": {
      "text/plain": [
       "0      197.385\n",
       "1       34.047\n",
       "2      167.690\n",
       "3      221.338\n",
       "4      261.636\n",
       "5       50.258\n",
       "6      429.023\n",
       "7     1069.180\n",
       "8      378.721\n",
       "9      119.518\n",
       "10       0.400\n",
       "11     298.126\n",
       "12      48.570\n",
       "13     492.846\n",
       "14      63.611\n",
       "15      31.000\n",
       "16     430.975\n",
       "17     690.008\n",
       "18       4.000\n",
       "19     163.430\n",
       "Name: arpu_6, dtype: float64"
      ]
     },
     "execution_count": 337,
     "metadata": {},
     "output_type": "execute_result"
    }
   ],
   "source": [
    "df['arpu_6'].head(20)"
   ]
  },
  {
   "cell_type": "code",
   "execution_count": 338,
   "metadata": {},
   "outputs": [],
   "source": [
    "null_df = pd.DataFrame(df.isnull().sum()/len(df.index)*100,columns=['C'])"
   ]
  },
  {
   "cell_type": "code",
   "execution_count": 339,
   "metadata": {},
   "outputs": [
    {
     "data": {
      "text/html": [
       "<div>\n",
       "<style scoped>\n",
       "    .dataframe tbody tr th:only-of-type {\n",
       "        vertical-align: middle;\n",
       "    }\n",
       "\n",
       "    .dataframe tbody tr th {\n",
       "        vertical-align: top;\n",
       "    }\n",
       "\n",
       "    .dataframe thead th {\n",
       "        text-align: right;\n",
       "    }\n",
       "</style>\n",
       "<table border=\"1\" class=\"dataframe\">\n",
       "  <thead>\n",
       "    <tr style=\"text-align: right;\">\n",
       "      <th></th>\n",
       "      <th>C</th>\n",
       "    </tr>\n",
       "  </thead>\n",
       "  <tbody>\n",
       "    <tr>\n",
       "      <td>arpu_3g_6</td>\n",
       "      <td>74.846748</td>\n",
       "    </tr>\n",
       "    <tr>\n",
       "      <td>night_pck_user_6</td>\n",
       "      <td>74.846748</td>\n",
       "    </tr>\n",
       "    <tr>\n",
       "      <td>total_rech_data_6</td>\n",
       "      <td>74.846748</td>\n",
       "    </tr>\n",
       "    <tr>\n",
       "      <td>arpu_2g_6</td>\n",
       "      <td>74.846748</td>\n",
       "    </tr>\n",
       "    <tr>\n",
       "      <td>max_rech_data_6</td>\n",
       "      <td>74.846748</td>\n",
       "    </tr>\n",
       "    <tr>\n",
       "      <td>fb_user_6</td>\n",
       "      <td>74.846748</td>\n",
       "    </tr>\n",
       "    <tr>\n",
       "      <td>av_rech_amt_data_6</td>\n",
       "      <td>74.846748</td>\n",
       "    </tr>\n",
       "    <tr>\n",
       "      <td>date_of_last_rech_data_6</td>\n",
       "      <td>74.846748</td>\n",
       "    </tr>\n",
       "    <tr>\n",
       "      <td>count_rech_2g_6</td>\n",
       "      <td>74.846748</td>\n",
       "    </tr>\n",
       "    <tr>\n",
       "      <td>count_rech_3g_6</td>\n",
       "      <td>74.846748</td>\n",
       "    </tr>\n",
       "    <tr>\n",
       "      <td>date_of_last_rech_data_7</td>\n",
       "      <td>74.428744</td>\n",
       "    </tr>\n",
       "    <tr>\n",
       "      <td>total_rech_data_7</td>\n",
       "      <td>74.428744</td>\n",
       "    </tr>\n",
       "    <tr>\n",
       "      <td>fb_user_7</td>\n",
       "      <td>74.428744</td>\n",
       "    </tr>\n",
       "    <tr>\n",
       "      <td>max_rech_data_7</td>\n",
       "      <td>74.428744</td>\n",
       "    </tr>\n",
       "    <tr>\n",
       "      <td>night_pck_user_7</td>\n",
       "      <td>74.428744</td>\n",
       "    </tr>\n",
       "    <tr>\n",
       "      <td>count_rech_2g_7</td>\n",
       "      <td>74.428744</td>\n",
       "    </tr>\n",
       "    <tr>\n",
       "      <td>av_rech_amt_data_7</td>\n",
       "      <td>74.428744</td>\n",
       "    </tr>\n",
       "    <tr>\n",
       "      <td>arpu_2g_7</td>\n",
       "      <td>74.428744</td>\n",
       "    </tr>\n",
       "    <tr>\n",
       "      <td>count_rech_3g_7</td>\n",
       "      <td>74.428744</td>\n",
       "    </tr>\n",
       "    <tr>\n",
       "      <td>arpu_3g_7</td>\n",
       "      <td>74.428744</td>\n",
       "    </tr>\n",
       "    <tr>\n",
       "      <td>total_rech_data_9</td>\n",
       "      <td>74.077741</td>\n",
       "    </tr>\n",
       "    <tr>\n",
       "      <td>count_rech_3g_9</td>\n",
       "      <td>74.077741</td>\n",
       "    </tr>\n",
       "    <tr>\n",
       "      <td>fb_user_9</td>\n",
       "      <td>74.077741</td>\n",
       "    </tr>\n",
       "    <tr>\n",
       "      <td>max_rech_data_9</td>\n",
       "      <td>74.077741</td>\n",
       "    </tr>\n",
       "    <tr>\n",
       "      <td>arpu_3g_9</td>\n",
       "      <td>74.077741</td>\n",
       "    </tr>\n",
       "    <tr>\n",
       "      <td>date_of_last_rech_data_9</td>\n",
       "      <td>74.077741</td>\n",
       "    </tr>\n",
       "    <tr>\n",
       "      <td>night_pck_user_9</td>\n",
       "      <td>74.077741</td>\n",
       "    </tr>\n",
       "    <tr>\n",
       "      <td>arpu_2g_9</td>\n",
       "      <td>74.077741</td>\n",
       "    </tr>\n",
       "    <tr>\n",
       "      <td>count_rech_2g_9</td>\n",
       "      <td>74.077741</td>\n",
       "    </tr>\n",
       "    <tr>\n",
       "      <td>av_rech_amt_data_9</td>\n",
       "      <td>74.077741</td>\n",
       "    </tr>\n",
       "    <tr>\n",
       "      <td>total_rech_data_8</td>\n",
       "      <td>73.660737</td>\n",
       "    </tr>\n",
       "    <tr>\n",
       "      <td>arpu_3g_8</td>\n",
       "      <td>73.660737</td>\n",
       "    </tr>\n",
       "    <tr>\n",
       "      <td>fb_user_8</td>\n",
       "      <td>73.660737</td>\n",
       "    </tr>\n",
       "    <tr>\n",
       "      <td>night_pck_user_8</td>\n",
       "      <td>73.660737</td>\n",
       "    </tr>\n",
       "    <tr>\n",
       "      <td>av_rech_amt_data_8</td>\n",
       "      <td>73.660737</td>\n",
       "    </tr>\n",
       "    <tr>\n",
       "      <td>max_rech_data_8</td>\n",
       "      <td>73.660737</td>\n",
       "    </tr>\n",
       "    <tr>\n",
       "      <td>count_rech_3g_8</td>\n",
       "      <td>73.660737</td>\n",
       "    </tr>\n",
       "    <tr>\n",
       "      <td>arpu_2g_8</td>\n",
       "      <td>73.660737</td>\n",
       "    </tr>\n",
       "    <tr>\n",
       "      <td>count_rech_2g_8</td>\n",
       "      <td>73.660737</td>\n",
       "    </tr>\n",
       "    <tr>\n",
       "      <td>date_of_last_rech_data_8</td>\n",
       "      <td>73.660737</td>\n",
       "    </tr>\n",
       "    <tr>\n",
       "      <td>ic_others_9</td>\n",
       "      <td>7.745077</td>\n",
       "    </tr>\n",
       "    <tr>\n",
       "      <td>std_og_mou_9</td>\n",
       "      <td>7.745077</td>\n",
       "    </tr>\n",
       "    <tr>\n",
       "      <td>std_og_t2c_mou_9</td>\n",
       "      <td>7.745077</td>\n",
       "    </tr>\n",
       "    <tr>\n",
       "      <td>isd_ic_mou_9</td>\n",
       "      <td>7.745077</td>\n",
       "    </tr>\n",
       "    <tr>\n",
       "      <td>std_ic_mou_9</td>\n",
       "      <td>7.745077</td>\n",
       "    </tr>\n",
       "    <tr>\n",
       "      <td>isd_og_mou_9</td>\n",
       "      <td>7.745077</td>\n",
       "    </tr>\n",
       "    <tr>\n",
       "      <td>spl_og_mou_9</td>\n",
       "      <td>7.745077</td>\n",
       "    </tr>\n",
       "    <tr>\n",
       "      <td>spl_ic_mou_9</td>\n",
       "      <td>7.745077</td>\n",
       "    </tr>\n",
       "    <tr>\n",
       "      <td>og_others_9</td>\n",
       "      <td>7.745077</td>\n",
       "    </tr>\n",
       "    <tr>\n",
       "      <td>loc_ic_t2t_mou_9</td>\n",
       "      <td>7.745077</td>\n",
       "    </tr>\n",
       "  </tbody>\n",
       "</table>\n",
       "</div>"
      ],
      "text/plain": [
       "                                  C\n",
       "arpu_3g_6                 74.846748\n",
       "night_pck_user_6          74.846748\n",
       "total_rech_data_6         74.846748\n",
       "arpu_2g_6                 74.846748\n",
       "max_rech_data_6           74.846748\n",
       "fb_user_6                 74.846748\n",
       "av_rech_amt_data_6        74.846748\n",
       "date_of_last_rech_data_6  74.846748\n",
       "count_rech_2g_6           74.846748\n",
       "count_rech_3g_6           74.846748\n",
       "date_of_last_rech_data_7  74.428744\n",
       "total_rech_data_7         74.428744\n",
       "fb_user_7                 74.428744\n",
       "max_rech_data_7           74.428744\n",
       "night_pck_user_7          74.428744\n",
       "count_rech_2g_7           74.428744\n",
       "av_rech_amt_data_7        74.428744\n",
       "arpu_2g_7                 74.428744\n",
       "count_rech_3g_7           74.428744\n",
       "arpu_3g_7                 74.428744\n",
       "total_rech_data_9         74.077741\n",
       "count_rech_3g_9           74.077741\n",
       "fb_user_9                 74.077741\n",
       "max_rech_data_9           74.077741\n",
       "arpu_3g_9                 74.077741\n",
       "date_of_last_rech_data_9  74.077741\n",
       "night_pck_user_9          74.077741\n",
       "arpu_2g_9                 74.077741\n",
       "count_rech_2g_9           74.077741\n",
       "av_rech_amt_data_9        74.077741\n",
       "total_rech_data_8         73.660737\n",
       "arpu_3g_8                 73.660737\n",
       "fb_user_8                 73.660737\n",
       "night_pck_user_8          73.660737\n",
       "av_rech_amt_data_8        73.660737\n",
       "max_rech_data_8           73.660737\n",
       "count_rech_3g_8           73.660737\n",
       "arpu_2g_8                 73.660737\n",
       "count_rech_2g_8           73.660737\n",
       "date_of_last_rech_data_8  73.660737\n",
       "ic_others_9                7.745077\n",
       "std_og_mou_9               7.745077\n",
       "std_og_t2c_mou_9           7.745077\n",
       "isd_ic_mou_9               7.745077\n",
       "std_ic_mou_9               7.745077\n",
       "isd_og_mou_9               7.745077\n",
       "spl_og_mou_9               7.745077\n",
       "spl_ic_mou_9               7.745077\n",
       "og_others_9                7.745077\n",
       "loc_ic_t2t_mou_9           7.745077"
      ]
     },
     "execution_count": 339,
     "metadata": {},
     "output_type": "execute_result"
    }
   ],
   "source": [
    "null_df.sort_values(by='C',ascending=False).head(50)"
   ]
  },
  {
   "cell_type": "markdown",
   "metadata": {},
   "source": [
    "# Step 1: Filtering High Value Customers"
   ]
  },
  {
   "cell_type": "markdown",
   "metadata": {},
   "source": [
    "**Define high-value customers as follows: Those who have recharged with an amount more than or equal to X, where X is the 70th percentile of the average recharge amount in the first two months (the good phase).**"
   ]
  },
  {
   "cell_type": "markdown",
   "metadata": {},
   "source": [
    "**Hence, the columns to be considered are: total_rech_amt_6, total_rech_amt_7, av_rech_amt_data_6, av_rech_amt_data_7, total_rech_data_6, total_rech_data_7.**     "
   ]
  },
  {
   "cell_type": "code",
   "execution_count": 340,
   "metadata": {},
   "outputs": [
    {
     "name": "stdout",
     "output_type": "stream",
     "text": [
      "0\n",
      "0\n",
      "74846\n",
      "74428\n",
      "74846\n",
      "74428\n"
     ]
    }
   ],
   "source": [
    "#Checking the nulls in the dataset for these particular columns\n",
    "print(df['total_rech_amt_6'].isnull().sum())\n",
    "print(df['total_rech_amt_7'].isnull().sum())\n",
    "print(df['av_rech_amt_data_6'].isnull().sum())\n",
    "print(df['av_rech_amt_data_7'].isnull().sum())\n",
    "print(df['total_rech_data_6'].isnull().sum())\n",
    "print(df['total_rech_data_7'].isnull().sum())"
   ]
  },
  {
   "cell_type": "code",
   "execution_count": 341,
   "metadata": {},
   "outputs": [],
   "source": [
    "#Imputing the missing values with zeros\n",
    "df['av_rech_amt_data_6'] = df['av_rech_amt_data_6'].fillna(0)\n",
    "df['av_rech_amt_data_7'] = df['av_rech_amt_data_7'].fillna(0)\n",
    "df['total_rech_data_6'] = df['total_rech_data_6'].fillna(0)\n",
    "df['total_rech_data_7'] = df['total_rech_data_7'].fillna(0)"
   ]
  },
  {
   "cell_type": "markdown",
   "metadata": {},
   "source": [
    "**Similarly, we take the same decision to impute the missing values as zeroes for corresponding columns in action phase 8.**"
   ]
  },
  {
   "cell_type": "code",
   "execution_count": 342,
   "metadata": {},
   "outputs": [
    {
     "name": "stdout",
     "output_type": "stream",
     "text": [
      "0\n",
      "73660\n",
      "73660\n"
     ]
    }
   ],
   "source": [
    "print(df['total_rech_amt_8'].isnull().sum())\n",
    "print(df['av_rech_amt_data_8'].isnull().sum())\n",
    "print(df['total_rech_data_8'].isnull().sum())"
   ]
  },
  {
   "cell_type": "code",
   "execution_count": 343,
   "metadata": {},
   "outputs": [],
   "source": [
    "#Imputing the missing values with zeroes for the corresponding columns in the action phase - 8\n",
    "df['av_rech_amt_data_8'] = df['av_rech_amt_data_8'].fillna(0)\n",
    "df['total_rech_data_8'] = df['total_rech_data_8'].fillna(0)"
   ]
  },
  {
   "cell_type": "code",
   "execution_count": 344,
   "metadata": {},
   "outputs": [],
   "source": [
    "#Finding the totals for months 6 and 7 \n",
    "df['total_rech_amt_6_7'] = df['total_rech_amt_6'] + df['total_rech_amt_7']"
   ]
  },
  {
   "cell_type": "code",
   "execution_count": 345,
   "metadata": {},
   "outputs": [],
   "source": [
    "#Finding the total recharge data amount for months 6 and 7\n",
    "df['total_rech_data_amt_6_7'] = df['av_rech_amt_data_6']*df['total_rech_data_6']+df['av_rech_amt_data_7']*df['total_rech_data_7']"
   ]
  },
  {
   "cell_type": "code",
   "execution_count": 346,
   "metadata": {},
   "outputs": [],
   "source": [
    "#Average recharge amount for months 6 & 7\n",
    "df['avg_rech_amt_6_7'] = (df['total_rech_amt_6_7']+df['total_rech_data_amt_6_7'])/2"
   ]
  },
  {
   "cell_type": "code",
   "execution_count": 347,
   "metadata": {},
   "outputs": [],
   "source": [
    "#Finding the 70th percentile for finding the high value customers\n",
    "high_val = df['avg_rech_amt_6_7'].quantile(0.7)"
   ]
  },
  {
   "cell_type": "code",
   "execution_count": 348,
   "metadata": {},
   "outputs": [
    {
     "name": "stdout",
     "output_type": "stream",
     "text": [
      "478.0\n"
     ]
    }
   ],
   "source": [
    "print(high_val)"
   ]
  },
  {
   "cell_type": "code",
   "execution_count": 349,
   "metadata": {},
   "outputs": [],
   "source": [
    "df['highvalcust'] = df['avg_rech_amt_6_7'].apply(lambda x: 1 if x>high_val else 0)"
   ]
  },
  {
   "cell_type": "code",
   "execution_count": 350,
   "metadata": {},
   "outputs": [
    {
     "data": {
      "text/html": [
       "<div>\n",
       "<style scoped>\n",
       "    .dataframe tbody tr th:only-of-type {\n",
       "        vertical-align: middle;\n",
       "    }\n",
       "\n",
       "    .dataframe tbody tr th {\n",
       "        vertical-align: top;\n",
       "    }\n",
       "\n",
       "    .dataframe thead th {\n",
       "        text-align: right;\n",
       "    }\n",
       "</style>\n",
       "<table border=\"1\" class=\"dataframe\">\n",
       "  <thead>\n",
       "    <tr style=\"text-align: right;\">\n",
       "      <th></th>\n",
       "      <th>highvalcust</th>\n",
       "      <th>avg_rech_amt_6_7</th>\n",
       "    </tr>\n",
       "  </thead>\n",
       "  <tbody>\n",
       "    <tr>\n",
       "      <td>0</td>\n",
       "      <td>1</td>\n",
       "      <td>559.0</td>\n",
       "    </tr>\n",
       "    <tr>\n",
       "      <td>1</td>\n",
       "      <td>0</td>\n",
       "      <td>306.0</td>\n",
       "    </tr>\n",
       "    <tr>\n",
       "      <td>2</td>\n",
       "      <td>0</td>\n",
       "      <td>241.5</td>\n",
       "    </tr>\n",
       "    <tr>\n",
       "      <td>3</td>\n",
       "      <td>0</td>\n",
       "      <td>270.0</td>\n",
       "    </tr>\n",
       "    <tr>\n",
       "      <td>4</td>\n",
       "      <td>0</td>\n",
       "      <td>301.0</td>\n",
       "    </tr>\n",
       "    <tr>\n",
       "      <td>...</td>\n",
       "      <td>...</td>\n",
       "      <td>...</td>\n",
       "    </tr>\n",
       "    <tr>\n",
       "      <td>99994</td>\n",
       "      <td>0</td>\n",
       "      <td>85.0</td>\n",
       "    </tr>\n",
       "    <tr>\n",
       "      <td>99995</td>\n",
       "      <td>0</td>\n",
       "      <td>110.0</td>\n",
       "    </tr>\n",
       "    <tr>\n",
       "      <td>99996</td>\n",
       "      <td>0</td>\n",
       "      <td>98.5</td>\n",
       "    </tr>\n",
       "    <tr>\n",
       "      <td>99997</td>\n",
       "      <td>1</td>\n",
       "      <td>1602.0</td>\n",
       "    </tr>\n",
       "    <tr>\n",
       "      <td>99998</td>\n",
       "      <td>0</td>\n",
       "      <td>432.0</td>\n",
       "    </tr>\n",
       "  </tbody>\n",
       "</table>\n",
       "<p>99999 rows × 2 columns</p>\n",
       "</div>"
      ],
      "text/plain": [
       "       highvalcust  avg_rech_amt_6_7\n",
       "0                1             559.0\n",
       "1                0             306.0\n",
       "2                0             241.5\n",
       "3                0             270.0\n",
       "4                0             301.0\n",
       "...            ...               ...\n",
       "99994            0              85.0\n",
       "99995            0             110.0\n",
       "99996            0              98.5\n",
       "99997            1            1602.0\n",
       "99998            0             432.0\n",
       "\n",
       "[99999 rows x 2 columns]"
      ]
     },
     "execution_count": 350,
     "metadata": {},
     "output_type": "execute_result"
    }
   ],
   "source": [
    "df[['highvalcust','avg_rech_amt_6_7']]"
   ]
  },
  {
   "cell_type": "code",
   "execution_count": 351,
   "metadata": {},
   "outputs": [
    {
     "data": {
      "text/plain": [
       "0    70046\n",
       "1    29953\n",
       "Name: highvalcust, dtype: int64"
      ]
     },
     "execution_count": 351,
     "metadata": {},
     "output_type": "execute_result"
    }
   ],
   "source": [
    "df['highvalcust'].value_counts()"
   ]
  },
  {
   "cell_type": "code",
   "execution_count": 352,
   "metadata": {},
   "outputs": [],
   "source": [
    "df = df[df['highvalcust']==1]"
   ]
  },
  {
   "cell_type": "code",
   "execution_count": 353,
   "metadata": {},
   "outputs": [
    {
     "data": {
      "text/plain": [
       "(29953, 230)"
      ]
     },
     "execution_count": 353,
     "metadata": {},
     "output_type": "execute_result"
    }
   ],
   "source": [
    "df.shape"
   ]
  },
  {
   "cell_type": "code",
   "execution_count": 354,
   "metadata": {},
   "outputs": [],
   "source": [
    "#Check nulls again"
   ]
  },
  {
   "cell_type": "code",
   "execution_count": 355,
   "metadata": {},
   "outputs": [],
   "source": [
    "null_df = pd.DataFrame(df.isnull().sum()/len(df.index)*100,columns=['C'])"
   ]
  },
  {
   "cell_type": "code",
   "execution_count": 356,
   "metadata": {},
   "outputs": [
    {
     "data": {
      "text/html": [
       "<div>\n",
       "<style scoped>\n",
       "    .dataframe tbody tr th:only-of-type {\n",
       "        vertical-align: middle;\n",
       "    }\n",
       "\n",
       "    .dataframe tbody tr th {\n",
       "        vertical-align: top;\n",
       "    }\n",
       "\n",
       "    .dataframe thead th {\n",
       "        text-align: right;\n",
       "    }\n",
       "</style>\n",
       "<table border=\"1\" class=\"dataframe\">\n",
       "  <thead>\n",
       "    <tr style=\"text-align: right;\">\n",
       "      <th></th>\n",
       "      <th>C</th>\n",
       "    </tr>\n",
       "  </thead>\n",
       "  <tbody>\n",
       "    <tr>\n",
       "      <td>date_of_last_rech_data_9</td>\n",
       "      <td>49.253831</td>\n",
       "    </tr>\n",
       "    <tr>\n",
       "      <td>arpu_2g_9</td>\n",
       "      <td>49.253831</td>\n",
       "    </tr>\n",
       "    <tr>\n",
       "      <td>night_pck_user_9</td>\n",
       "      <td>49.253831</td>\n",
       "    </tr>\n",
       "    <tr>\n",
       "      <td>count_rech_2g_9</td>\n",
       "      <td>49.253831</td>\n",
       "    </tr>\n",
       "    <tr>\n",
       "      <td>total_rech_data_9</td>\n",
       "      <td>49.253831</td>\n",
       "    </tr>\n",
       "    <tr>\n",
       "      <td>fb_user_9</td>\n",
       "      <td>49.253831</td>\n",
       "    </tr>\n",
       "    <tr>\n",
       "      <td>count_rech_3g_9</td>\n",
       "      <td>49.253831</td>\n",
       "    </tr>\n",
       "    <tr>\n",
       "      <td>av_rech_amt_data_9</td>\n",
       "      <td>49.253831</td>\n",
       "    </tr>\n",
       "    <tr>\n",
       "      <td>arpu_3g_9</td>\n",
       "      <td>49.253831</td>\n",
       "    </tr>\n",
       "    <tr>\n",
       "      <td>max_rech_data_9</td>\n",
       "      <td>49.253831</td>\n",
       "    </tr>\n",
       "    <tr>\n",
       "      <td>arpu_2g_8</td>\n",
       "      <td>46.799987</td>\n",
       "    </tr>\n",
       "    <tr>\n",
       "      <td>count_rech_3g_8</td>\n",
       "      <td>46.799987</td>\n",
       "    </tr>\n",
       "    <tr>\n",
       "      <td>arpu_3g_8</td>\n",
       "      <td>46.799987</td>\n",
       "    </tr>\n",
       "    <tr>\n",
       "      <td>date_of_last_rech_data_8</td>\n",
       "      <td>46.799987</td>\n",
       "    </tr>\n",
       "    <tr>\n",
       "      <td>night_pck_user_8</td>\n",
       "      <td>46.799987</td>\n",
       "    </tr>\n",
       "    <tr>\n",
       "      <td>count_rech_2g_8</td>\n",
       "      <td>46.799987</td>\n",
       "    </tr>\n",
       "    <tr>\n",
       "      <td>max_rech_data_8</td>\n",
       "      <td>46.799987</td>\n",
       "    </tr>\n",
       "    <tr>\n",
       "      <td>fb_user_8</td>\n",
       "      <td>46.799987</td>\n",
       "    </tr>\n",
       "    <tr>\n",
       "      <td>count_rech_2g_6</td>\n",
       "      <td>44.112443</td>\n",
       "    </tr>\n",
       "    <tr>\n",
       "      <td>max_rech_data_6</td>\n",
       "      <td>44.112443</td>\n",
       "    </tr>\n",
       "    <tr>\n",
       "      <td>night_pck_user_6</td>\n",
       "      <td>44.112443</td>\n",
       "    </tr>\n",
       "    <tr>\n",
       "      <td>fb_user_6</td>\n",
       "      <td>44.112443</td>\n",
       "    </tr>\n",
       "    <tr>\n",
       "      <td>date_of_last_rech_data_6</td>\n",
       "      <td>44.112443</td>\n",
       "    </tr>\n",
       "    <tr>\n",
       "      <td>count_rech_3g_6</td>\n",
       "      <td>44.112443</td>\n",
       "    </tr>\n",
       "    <tr>\n",
       "      <td>arpu_2g_6</td>\n",
       "      <td>44.112443</td>\n",
       "    </tr>\n",
       "    <tr>\n",
       "      <td>arpu_3g_6</td>\n",
       "      <td>44.112443</td>\n",
       "    </tr>\n",
       "    <tr>\n",
       "      <td>night_pck_user_7</td>\n",
       "      <td>43.117551</td>\n",
       "    </tr>\n",
       "    <tr>\n",
       "      <td>max_rech_data_7</td>\n",
       "      <td>43.117551</td>\n",
       "    </tr>\n",
       "    <tr>\n",
       "      <td>date_of_last_rech_data_7</td>\n",
       "      <td>43.117551</td>\n",
       "    </tr>\n",
       "    <tr>\n",
       "      <td>fb_user_7</td>\n",
       "      <td>43.117551</td>\n",
       "    </tr>\n",
       "    <tr>\n",
       "      <td>count_rech_3g_7</td>\n",
       "      <td>43.117551</td>\n",
       "    </tr>\n",
       "    <tr>\n",
       "      <td>arpu_2g_7</td>\n",
       "      <td>43.117551</td>\n",
       "    </tr>\n",
       "    <tr>\n",
       "      <td>arpu_3g_7</td>\n",
       "      <td>43.117551</td>\n",
       "    </tr>\n",
       "    <tr>\n",
       "      <td>count_rech_2g_7</td>\n",
       "      <td>43.117551</td>\n",
       "    </tr>\n",
       "    <tr>\n",
       "      <td>std_og_t2t_mou_9</td>\n",
       "      <td>6.336594</td>\n",
       "    </tr>\n",
       "    <tr>\n",
       "      <td>std_ic_t2f_mou_9</td>\n",
       "      <td>6.336594</td>\n",
       "    </tr>\n",
       "    <tr>\n",
       "      <td>ic_others_9</td>\n",
       "      <td>6.336594</td>\n",
       "    </tr>\n",
       "    <tr>\n",
       "      <td>std_og_t2c_mou_9</td>\n",
       "      <td>6.336594</td>\n",
       "    </tr>\n",
       "    <tr>\n",
       "      <td>std_og_t2m_mou_9</td>\n",
       "      <td>6.336594</td>\n",
       "    </tr>\n",
       "    <tr>\n",
       "      <td>std_ic_t2o_mou_9</td>\n",
       "      <td>6.336594</td>\n",
       "    </tr>\n",
       "    <tr>\n",
       "      <td>og_others_9</td>\n",
       "      <td>6.336594</td>\n",
       "    </tr>\n",
       "    <tr>\n",
       "      <td>std_og_t2f_mou_9</td>\n",
       "      <td>6.336594</td>\n",
       "    </tr>\n",
       "    <tr>\n",
       "      <td>isd_ic_mou_9</td>\n",
       "      <td>6.336594</td>\n",
       "    </tr>\n",
       "    <tr>\n",
       "      <td>std_ic_mou_9</td>\n",
       "      <td>6.336594</td>\n",
       "    </tr>\n",
       "    <tr>\n",
       "      <td>spl_ic_mou_9</td>\n",
       "      <td>6.336594</td>\n",
       "    </tr>\n",
       "    <tr>\n",
       "      <td>spl_og_mou_9</td>\n",
       "      <td>6.336594</td>\n",
       "    </tr>\n",
       "    <tr>\n",
       "      <td>std_og_mou_9</td>\n",
       "      <td>6.336594</td>\n",
       "    </tr>\n",
       "    <tr>\n",
       "      <td>loc_ic_t2t_mou_9</td>\n",
       "      <td>6.336594</td>\n",
       "    </tr>\n",
       "    <tr>\n",
       "      <td>loc_ic_mou_9</td>\n",
       "      <td>6.336594</td>\n",
       "    </tr>\n",
       "    <tr>\n",
       "      <td>loc_og_mou_9</td>\n",
       "      <td>6.336594</td>\n",
       "    </tr>\n",
       "  </tbody>\n",
       "</table>\n",
       "</div>"
      ],
      "text/plain": [
       "                                  C\n",
       "date_of_last_rech_data_9  49.253831\n",
       "arpu_2g_9                 49.253831\n",
       "night_pck_user_9          49.253831\n",
       "count_rech_2g_9           49.253831\n",
       "total_rech_data_9         49.253831\n",
       "fb_user_9                 49.253831\n",
       "count_rech_3g_9           49.253831\n",
       "av_rech_amt_data_9        49.253831\n",
       "arpu_3g_9                 49.253831\n",
       "max_rech_data_9           49.253831\n",
       "arpu_2g_8                 46.799987\n",
       "count_rech_3g_8           46.799987\n",
       "arpu_3g_8                 46.799987\n",
       "date_of_last_rech_data_8  46.799987\n",
       "night_pck_user_8          46.799987\n",
       "count_rech_2g_8           46.799987\n",
       "max_rech_data_8           46.799987\n",
       "fb_user_8                 46.799987\n",
       "count_rech_2g_6           44.112443\n",
       "max_rech_data_6           44.112443\n",
       "night_pck_user_6          44.112443\n",
       "fb_user_6                 44.112443\n",
       "date_of_last_rech_data_6  44.112443\n",
       "count_rech_3g_6           44.112443\n",
       "arpu_2g_6                 44.112443\n",
       "arpu_3g_6                 44.112443\n",
       "night_pck_user_7          43.117551\n",
       "max_rech_data_7           43.117551\n",
       "date_of_last_rech_data_7  43.117551\n",
       "fb_user_7                 43.117551\n",
       "count_rech_3g_7           43.117551\n",
       "arpu_2g_7                 43.117551\n",
       "arpu_3g_7                 43.117551\n",
       "count_rech_2g_7           43.117551\n",
       "std_og_t2t_mou_9           6.336594\n",
       "std_ic_t2f_mou_9           6.336594\n",
       "ic_others_9                6.336594\n",
       "std_og_t2c_mou_9           6.336594\n",
       "std_og_t2m_mou_9           6.336594\n",
       "std_ic_t2o_mou_9           6.336594\n",
       "og_others_9                6.336594\n",
       "std_og_t2f_mou_9           6.336594\n",
       "isd_ic_mou_9               6.336594\n",
       "std_ic_mou_9               6.336594\n",
       "spl_ic_mou_9               6.336594\n",
       "spl_og_mou_9               6.336594\n",
       "std_og_mou_9               6.336594\n",
       "loc_ic_t2t_mou_9           6.336594\n",
       "loc_ic_mou_9               6.336594\n",
       "loc_og_mou_9               6.336594"
      ]
     },
     "execution_count": 356,
     "metadata": {},
     "output_type": "execute_result"
    }
   ],
   "source": [
    "null_df.sort_values(by='C',ascending=False).head(50)"
   ]
  },
  {
   "cell_type": "markdown",
   "metadata": {},
   "source": [
    "# Step 2: Creating the column - Churn"
   ]
  },
  {
   "cell_type": "markdown",
   "metadata": {},
   "source": [
    "**As per assignment guidelines: Now tag the churned customers (churn=1, else 0) based on the fourth month as follows: Those who have not made any calls (either incoming or outgoing) AND have not used mobile internet even once in the churn phase. The attributes you need to use to tag churners are:**\n",
    "- total_ic_mou_9\n",
    "- total_og_mou_9\n",
    "- vol_2g_mb_9\n",
    "- vol_3g_mb_9"
   ]
  },
  {
   "cell_type": "code",
   "execution_count": 357,
   "metadata": {},
   "outputs": [
    {
     "data": {
      "text/plain": [
       "total_ic_mou_9    0.0\n",
       "total_og_mou_9    0.0\n",
       "vol_2g_mb_9       0.0\n",
       "vol_3g_mb_9       0.0\n",
       "dtype: float64"
      ]
     },
     "execution_count": 357,
     "metadata": {},
     "output_type": "execute_result"
    }
   ],
   "source": [
    "#Checking the nulls\n",
    "df[['total_ic_mou_9','total_og_mou_9','vol_2g_mb_9','vol_3g_mb_9']].isnull().sum()/len(df.index)*100"
   ]
  },
  {
   "cell_type": "code",
   "execution_count": 358,
   "metadata": {},
   "outputs": [
    {
     "data": {
      "text/plain": [
       "total_ic_mou_8    0.0\n",
       "total_og_mou_8    0.0\n",
       "vol_2g_mb_8       0.0\n",
       "vol_3g_mb_8       0.0\n",
       "dtype: float64"
      ]
     },
     "execution_count": 358,
     "metadata": {},
     "output_type": "execute_result"
    }
   ],
   "source": [
    "#Checking the nulls\n",
    "df[['total_ic_mou_8','total_og_mou_8','vol_2g_mb_8','vol_3g_mb_8']].isnull().sum()/len(df.index)*100"
   ]
  },
  {
   "cell_type": "code",
   "execution_count": 359,
   "metadata": {},
   "outputs": [
    {
     "data": {
      "text/html": [
       "<div>\n",
       "<style scoped>\n",
       "    .dataframe tbody tr th:only-of-type {\n",
       "        vertical-align: middle;\n",
       "    }\n",
       "\n",
       "    .dataframe tbody tr th {\n",
       "        vertical-align: top;\n",
       "    }\n",
       "\n",
       "    .dataframe thead th {\n",
       "        text-align: right;\n",
       "    }\n",
       "</style>\n",
       "<table border=\"1\" class=\"dataframe\">\n",
       "  <thead>\n",
       "    <tr style=\"text-align: right;\">\n",
       "      <th></th>\n",
       "      <th>total_ic_mou_9</th>\n",
       "      <th>total_og_mou_9</th>\n",
       "      <th>vol_2g_mb_9</th>\n",
       "      <th>vol_3g_mb_9</th>\n",
       "    </tr>\n",
       "  </thead>\n",
       "  <tbody>\n",
       "    <tr>\n",
       "      <td>count</td>\n",
       "      <td>29953.000000</td>\n",
       "      <td>29953.000000</td>\n",
       "      <td>29953.000000</td>\n",
       "      <td>29953.000000</td>\n",
       "    </tr>\n",
       "    <tr>\n",
       "      <td>mean</td>\n",
       "      <td>265.079232</td>\n",
       "      <td>501.141639</td>\n",
       "      <td>91.405987</td>\n",
       "      <td>349.915812</td>\n",
       "    </tr>\n",
       "    <tr>\n",
       "      <td>std</td>\n",
       "      <td>358.502996</td>\n",
       "      <td>667.138160</td>\n",
       "      <td>282.104414</td>\n",
       "      <td>947.700826</td>\n",
       "    </tr>\n",
       "    <tr>\n",
       "      <td>min</td>\n",
       "      <td>0.000000</td>\n",
       "      <td>0.000000</td>\n",
       "      <td>0.000000</td>\n",
       "      <td>0.000000</td>\n",
       "    </tr>\n",
       "    <tr>\n",
       "      <td>25%</td>\n",
       "      <td>50.490000</td>\n",
       "      <td>47.730000</td>\n",
       "      <td>0.000000</td>\n",
       "      <td>0.000000</td>\n",
       "    </tr>\n",
       "    <tr>\n",
       "      <td>50%</td>\n",
       "      <td>158.030000</td>\n",
       "      <td>285.130000</td>\n",
       "      <td>0.000000</td>\n",
       "      <td>0.000000</td>\n",
       "    </tr>\n",
       "    <tr>\n",
       "      <td>75%</td>\n",
       "      <td>343.960000</td>\n",
       "      <td>698.790000</td>\n",
       "      <td>38.020000</td>\n",
       "      <td>321.570000</td>\n",
       "    </tr>\n",
       "    <tr>\n",
       "      <td>max</td>\n",
       "      <td>7785.730000</td>\n",
       "      <td>11517.730000</td>\n",
       "      <td>8993.950000</td>\n",
       "      <td>39221.270000</td>\n",
       "    </tr>\n",
       "  </tbody>\n",
       "</table>\n",
       "</div>"
      ],
      "text/plain": [
       "       total_ic_mou_9  total_og_mou_9   vol_2g_mb_9   vol_3g_mb_9\n",
       "count    29953.000000    29953.000000  29953.000000  29953.000000\n",
       "mean       265.079232      501.141639     91.405987    349.915812\n",
       "std        358.502996      667.138160    282.104414    947.700826\n",
       "min          0.000000        0.000000      0.000000      0.000000\n",
       "25%         50.490000       47.730000      0.000000      0.000000\n",
       "50%        158.030000      285.130000      0.000000      0.000000\n",
       "75%        343.960000      698.790000     38.020000    321.570000\n",
       "max       7785.730000    11517.730000   8993.950000  39221.270000"
      ]
     },
     "execution_count": 359,
     "metadata": {},
     "output_type": "execute_result"
    }
   ],
   "source": [
    "#Describe these columns\n",
    "df[['total_ic_mou_9','total_og_mou_9','vol_2g_mb_9','vol_3g_mb_9']].describe()"
   ]
  },
  {
   "cell_type": "code",
   "execution_count": 360,
   "metadata": {},
   "outputs": [],
   "source": [
    "#Finding the total usage in Month 9\n",
    "df['total_usage_9'] = df['total_ic_mou_9']+df['total_og_mou_9']+df['vol_2g_mb_9']+df['vol_3g_mb_9']"
   ]
  },
  {
   "cell_type": "code",
   "execution_count": 361,
   "metadata": {},
   "outputs": [],
   "source": [
    "#Creating the column - churn using the total usage in Month 9\n",
    "df['churn'] = df['total_usage_9'].apply(lambda x: 0 if x>0 else 1)"
   ]
  },
  {
   "cell_type": "code",
   "execution_count": 362,
   "metadata": {},
   "outputs": [
    {
     "name": "stdout",
     "output_type": "stream",
     "text": [
      "       total_ic_mou_9  total_og_mou_9  vol_2g_mb_9  vol_3g_mb_9  churn\n",
      "0                0.00            0.00         0.00         0.00      1\n",
      "7                0.00            0.00         0.00         0.00      1\n",
      "8               34.91          142.18         0.00         0.00      0\n",
      "21             252.61         1031.53         0.00         0.00      0\n",
      "23             127.48          127.63        13.93       314.74      0\n",
      "...               ...             ...          ...          ...    ...\n",
      "99981          391.63           64.21         0.00         0.00      0\n",
      "99984          149.26           14.44       723.41       232.56      0\n",
      "99986          547.11         1095.24         9.14       941.48      0\n",
      "99988          265.84          182.16         0.05       393.34      0\n",
      "99997            2.21            0.00        85.67      4177.14      0\n",
      "\n",
      "[29953 rows x 5 columns]\n"
     ]
    }
   ],
   "source": [
    "#Here we confirm if the churn column was prepared properly\n",
    "print(df[['total_ic_mou_9','total_og_mou_9','vol_2g_mb_9','vol_3g_mb_9','churn']])"
   ]
  },
  {
   "cell_type": "code",
   "execution_count": 363,
   "metadata": {},
   "outputs": [
    {
     "data": {
      "text/plain": [
       "0    27520\n",
       "1     2433\n",
       "Name: churn, dtype: int64"
      ]
     },
     "execution_count": 363,
     "metadata": {},
     "output_type": "execute_result"
    }
   ],
   "source": [
    "#Find the value_counts for the churn\n",
    "df['churn'].value_counts()"
   ]
  },
  {
   "cell_type": "markdown",
   "metadata": {},
   "source": [
    "**Hence, there are 2433 people who have churned out of the 29953. Lets visualize it better in a pie chart.**"
   ]
  },
  {
   "cell_type": "code",
   "execution_count": 364,
   "metadata": {},
   "outputs": [
    {
     "data": {
      "image/png": "[encoded data removed]",
      "text/plain": [
       "<Figure size 432x288 with 1 Axes>"
      ]
     },
     "metadata": {},
     "output_type": "display_data"
    },
    {
     "name": "stdout",
     "output_type": "stream",
     "text": [
      "This is a class imbalance problem , which will be later handled using SMOTE technique\n"
     ]
    }
   ],
   "source": [
    "#Pie chart for the target variable - Churn\n",
    "labels = ['No Churn','Churn']\n",
    "sizes = [df['churn'].value_counts()[0],df['churn'].value_counts()[1]]\n",
    "fig1, ax1 = plt.subplots()\n",
    "ax1.pie(sizes, labels=labels, autopct='%1.1f%%')\n",
    "ax1.axis('equal')\n",
    "plt.show()\n",
    "plt.show()\n",
    "print('This is a class imbalance problem , which will be later handled using SMOTE technique')"
   ]
  },
  {
   "cell_type": "markdown",
   "metadata": {},
   "source": [
    "**As we have created the desired column 'churn', we can now remove all the columns for month 9 as guided in the problem statement.**"
   ]
  },
  {
   "cell_type": "code",
   "execution_count": 365,
   "metadata": {},
   "outputs": [],
   "source": [
    "text = '_9'\n",
    "filtered_9 = list(filter(lambda x: True if text in x else False,list(df.columns)))"
   ]
  },
  {
   "cell_type": "code",
   "execution_count": 366,
   "metadata": {},
   "outputs": [
    {
     "data": {
      "text/plain": [
       "['last_date_of_month_9',\n",
       " 'arpu_9',\n",
       " 'onnet_mou_9',\n",
       " 'offnet_mou_9',\n",
       " 'roam_ic_mou_9',\n",
       " 'roam_og_mou_9',\n",
       " 'loc_og_t2t_mou_9',\n",
       " 'loc_og_t2m_mou_9',\n",
       " 'loc_og_t2f_mou_9',\n",
       " 'loc_og_t2c_mou_9',\n",
       " 'loc_og_mou_9',\n",
       " 'std_og_t2t_mou_9',\n",
       " 'std_og_t2m_mou_9',\n",
       " 'std_og_t2f_mou_9',\n",
       " 'std_og_t2c_mou_9',\n",
       " 'std_og_mou_9',\n",
       " 'isd_og_mou_9',\n",
       " 'spl_og_mou_9',\n",
       " 'og_others_9',\n",
       " 'total_og_mou_9',\n",
       " 'loc_ic_t2t_mou_9',\n",
       " 'loc_ic_t2m_mou_9',\n",
       " 'loc_ic_t2f_mou_9',\n",
       " 'loc_ic_mou_9',\n",
       " 'std_ic_t2t_mou_9',\n",
       " 'std_ic_t2m_mou_9',\n",
       " 'std_ic_t2f_mou_9',\n",
       " 'std_ic_t2o_mou_9',\n",
       " 'std_ic_mou_9',\n",
       " 'total_ic_mou_9',\n",
       " 'spl_ic_mou_9',\n",
       " 'isd_ic_mou_9',\n",
       " 'ic_others_9',\n",
       " 'total_rech_num_9',\n",
       " 'total_rech_amt_9',\n",
       " 'max_rech_amt_9',\n",
       " 'date_of_last_rech_9',\n",
       " 'last_day_rch_amt_9',\n",
       " 'date_of_last_rech_data_9',\n",
       " 'total_rech_data_9',\n",
       " 'max_rech_data_9',\n",
       " 'count_rech_2g_9',\n",
       " 'count_rech_3g_9',\n",
       " 'av_rech_amt_data_9',\n",
       " 'vol_2g_mb_9',\n",
       " 'vol_3g_mb_9',\n",
       " 'arpu_3g_9',\n",
       " 'arpu_2g_9',\n",
       " 'night_pck_user_9',\n",
       " 'monthly_2g_9',\n",
       " 'sachet_2g_9',\n",
       " 'monthly_3g_9',\n",
       " 'sachet_3g_9',\n",
       " 'fb_user_9',\n",
       " 'total_usage_9']"
      ]
     },
     "execution_count": 366,
     "metadata": {},
     "output_type": "execute_result"
    }
   ],
   "source": [
    "filtered_9"
   ]
  },
  {
   "cell_type": "code",
   "execution_count": 367,
   "metadata": {},
   "outputs": [],
   "source": [
    "#Dropping the columns for September\n",
    "df = df.drop(filtered_9,axis = 1)"
   ]
  },
  {
   "cell_type": "code",
   "execution_count": 368,
   "metadata": {},
   "outputs": [
    {
     "data": {
      "text/plain": [
       "(29953, 177)"
      ]
     },
     "execution_count": 368,
     "metadata": {},
     "output_type": "execute_result"
    }
   ],
   "source": [
    "#No of columns\n",
    "df.shape"
   ]
  },
  {
   "cell_type": "markdown",
   "metadata": {},
   "source": [
    "**Understanding all the columns in filtered_9 but for 6,7,8 & then find:**\n",
    "1. What will be the derived columns? \n",
    "\n",
    "**Other strategies:**\n",
    "1. Non date columns: We can find average for 6 & 7, and then subtract from 8 to see change in behaviour\n",
    "2. Date columns: Find no of days from end of september to last recharge, between two recharges"
   ]
  },
  {
   "cell_type": "code",
   "execution_count": 369,
   "metadata": {},
   "outputs": [
    {
     "name": "stdout",
     "output_type": "stream",
     "text": [
      "['last_date_of_month_6', 'last_date_of_month_7', 'last_date_of_month_8', 'date_of_last_rech_6', 'date_of_last_rech_7', 'date_of_last_rech_8', 'date_of_last_rech_data_6', 'date_of_last_rech_data_7', 'date_of_last_rech_data_8']\n"
     ]
    }
   ],
   "source": [
    "#Categorical columns\n",
    "columns_list=df.select_dtypes(include=['object']).columns.to_list()\n",
    "print(columns_list)"
   ]
  },
  {
   "cell_type": "code",
   "execution_count": 370,
   "metadata": {},
   "outputs": [],
   "source": [
    "null_df = pd.DataFrame(df.isnull().sum()/len(df.index)*100,columns=['C'])"
   ]
  },
  {
   "cell_type": "code",
   "execution_count": 371,
   "metadata": {},
   "outputs": [
    {
     "data": {
      "text/html": [
       "<div>\n",
       "<style scoped>\n",
       "    .dataframe tbody tr th:only-of-type {\n",
       "        vertical-align: middle;\n",
       "    }\n",
       "\n",
       "    .dataframe tbody tr th {\n",
       "        vertical-align: top;\n",
       "    }\n",
       "\n",
       "    .dataframe thead th {\n",
       "        text-align: right;\n",
       "    }\n",
       "</style>\n",
       "<table border=\"1\" class=\"dataframe\">\n",
       "  <thead>\n",
       "    <tr style=\"text-align: right;\">\n",
       "      <th></th>\n",
       "      <th>C</th>\n",
       "    </tr>\n",
       "  </thead>\n",
       "  <tbody>\n",
       "    <tr>\n",
       "      <td>count_rech_3g_8</td>\n",
       "      <td>46.799987</td>\n",
       "    </tr>\n",
       "    <tr>\n",
       "      <td>count_rech_2g_8</td>\n",
       "      <td>46.799987</td>\n",
       "    </tr>\n",
       "    <tr>\n",
       "      <td>fb_user_8</td>\n",
       "      <td>46.799987</td>\n",
       "    </tr>\n",
       "    <tr>\n",
       "      <td>arpu_3g_8</td>\n",
       "      <td>46.799987</td>\n",
       "    </tr>\n",
       "    <tr>\n",
       "      <td>date_of_last_rech_data_8</td>\n",
       "      <td>46.799987</td>\n",
       "    </tr>\n",
       "    <tr>\n",
       "      <td>max_rech_data_8</td>\n",
       "      <td>46.799987</td>\n",
       "    </tr>\n",
       "    <tr>\n",
       "      <td>arpu_2g_8</td>\n",
       "      <td>46.799987</td>\n",
       "    </tr>\n",
       "    <tr>\n",
       "      <td>night_pck_user_8</td>\n",
       "      <td>46.799987</td>\n",
       "    </tr>\n",
       "    <tr>\n",
       "      <td>count_rech_2g_6</td>\n",
       "      <td>44.112443</td>\n",
       "    </tr>\n",
       "    <tr>\n",
       "      <td>date_of_last_rech_data_6</td>\n",
       "      <td>44.112443</td>\n",
       "    </tr>\n",
       "    <tr>\n",
       "      <td>arpu_3g_6</td>\n",
       "      <td>44.112443</td>\n",
       "    </tr>\n",
       "    <tr>\n",
       "      <td>count_rech_3g_6</td>\n",
       "      <td>44.112443</td>\n",
       "    </tr>\n",
       "    <tr>\n",
       "      <td>fb_user_6</td>\n",
       "      <td>44.112443</td>\n",
       "    </tr>\n",
       "    <tr>\n",
       "      <td>night_pck_user_6</td>\n",
       "      <td>44.112443</td>\n",
       "    </tr>\n",
       "    <tr>\n",
       "      <td>arpu_2g_6</td>\n",
       "      <td>44.112443</td>\n",
       "    </tr>\n",
       "    <tr>\n",
       "      <td>max_rech_data_6</td>\n",
       "      <td>44.112443</td>\n",
       "    </tr>\n",
       "    <tr>\n",
       "      <td>fb_user_7</td>\n",
       "      <td>43.117551</td>\n",
       "    </tr>\n",
       "    <tr>\n",
       "      <td>date_of_last_rech_data_7</td>\n",
       "      <td>43.117551</td>\n",
       "    </tr>\n",
       "    <tr>\n",
       "      <td>night_pck_user_7</td>\n",
       "      <td>43.117551</td>\n",
       "    </tr>\n",
       "    <tr>\n",
       "      <td>count_rech_2g_7</td>\n",
       "      <td>43.117551</td>\n",
       "    </tr>\n",
       "    <tr>\n",
       "      <td>count_rech_3g_7</td>\n",
       "      <td>43.117551</td>\n",
       "    </tr>\n",
       "    <tr>\n",
       "      <td>arpu_2g_7</td>\n",
       "      <td>43.117551</td>\n",
       "    </tr>\n",
       "    <tr>\n",
       "      <td>arpu_3g_7</td>\n",
       "      <td>43.117551</td>\n",
       "    </tr>\n",
       "    <tr>\n",
       "      <td>max_rech_data_7</td>\n",
       "      <td>43.117551</td>\n",
       "    </tr>\n",
       "    <tr>\n",
       "      <td>loc_ic_mou_8</td>\n",
       "      <td>3.912797</td>\n",
       "    </tr>\n",
       "    <tr>\n",
       "      <td>std_og_t2c_mou_8</td>\n",
       "      <td>3.912797</td>\n",
       "    </tr>\n",
       "    <tr>\n",
       "      <td>std_og_mou_8</td>\n",
       "      <td>3.912797</td>\n",
       "    </tr>\n",
       "    <tr>\n",
       "      <td>isd_og_mou_8</td>\n",
       "      <td>3.912797</td>\n",
       "    </tr>\n",
       "    <tr>\n",
       "      <td>spl_og_mou_8</td>\n",
       "      <td>3.912797</td>\n",
       "    </tr>\n",
       "    <tr>\n",
       "      <td>og_others_8</td>\n",
       "      <td>3.912797</td>\n",
       "    </tr>\n",
       "    <tr>\n",
       "      <td>loc_ic_t2t_mou_8</td>\n",
       "      <td>3.912797</td>\n",
       "    </tr>\n",
       "    <tr>\n",
       "      <td>loc_ic_t2f_mou_8</td>\n",
       "      <td>3.912797</td>\n",
       "    </tr>\n",
       "    <tr>\n",
       "      <td>std_ic_t2f_mou_8</td>\n",
       "      <td>3.912797</td>\n",
       "    </tr>\n",
       "    <tr>\n",
       "      <td>std_ic_t2t_mou_8</td>\n",
       "      <td>3.912797</td>\n",
       "    </tr>\n",
       "    <tr>\n",
       "      <td>std_ic_t2m_mou_8</td>\n",
       "      <td>3.912797</td>\n",
       "    </tr>\n",
       "    <tr>\n",
       "      <td>std_ic_mou_8</td>\n",
       "      <td>3.912797</td>\n",
       "    </tr>\n",
       "    <tr>\n",
       "      <td>spl_ic_mou_8</td>\n",
       "      <td>3.912797</td>\n",
       "    </tr>\n",
       "    <tr>\n",
       "      <td>isd_ic_mou_8</td>\n",
       "      <td>3.912797</td>\n",
       "    </tr>\n",
       "    <tr>\n",
       "      <td>ic_others_8</td>\n",
       "      <td>3.912797</td>\n",
       "    </tr>\n",
       "    <tr>\n",
       "      <td>std_og_t2m_mou_8</td>\n",
       "      <td>3.912797</td>\n",
       "    </tr>\n",
       "    <tr>\n",
       "      <td>std_og_t2f_mou_8</td>\n",
       "      <td>3.912797</td>\n",
       "    </tr>\n",
       "    <tr>\n",
       "      <td>std_ic_t2o_mou_8</td>\n",
       "      <td>3.912797</td>\n",
       "    </tr>\n",
       "    <tr>\n",
       "      <td>loc_og_t2m_mou_8</td>\n",
       "      <td>3.912797</td>\n",
       "    </tr>\n",
       "    <tr>\n",
       "      <td>loc_og_mou_8</td>\n",
       "      <td>3.912797</td>\n",
       "    </tr>\n",
       "    <tr>\n",
       "      <td>onnet_mou_8</td>\n",
       "      <td>3.912797</td>\n",
       "    </tr>\n",
       "    <tr>\n",
       "      <td>offnet_mou_8</td>\n",
       "      <td>3.912797</td>\n",
       "    </tr>\n",
       "    <tr>\n",
       "      <td>roam_ic_mou_8</td>\n",
       "      <td>3.912797</td>\n",
       "    </tr>\n",
       "    <tr>\n",
       "      <td>roam_og_mou_8</td>\n",
       "      <td>3.912797</td>\n",
       "    </tr>\n",
       "    <tr>\n",
       "      <td>loc_og_t2t_mou_8</td>\n",
       "      <td>3.912797</td>\n",
       "    </tr>\n",
       "    <tr>\n",
       "      <td>loc_og_t2f_mou_8</td>\n",
       "      <td>3.912797</td>\n",
       "    </tr>\n",
       "  </tbody>\n",
       "</table>\n",
       "</div>"
      ],
      "text/plain": [
       "                                  C\n",
       "count_rech_3g_8           46.799987\n",
       "count_rech_2g_8           46.799987\n",
       "fb_user_8                 46.799987\n",
       "arpu_3g_8                 46.799987\n",
       "date_of_last_rech_data_8  46.799987\n",
       "max_rech_data_8           46.799987\n",
       "arpu_2g_8                 46.799987\n",
       "night_pck_user_8          46.799987\n",
       "count_rech_2g_6           44.112443\n",
       "date_of_last_rech_data_6  44.112443\n",
       "arpu_3g_6                 44.112443\n",
       "count_rech_3g_6           44.112443\n",
       "fb_user_6                 44.112443\n",
       "night_pck_user_6          44.112443\n",
       "arpu_2g_6                 44.112443\n",
       "max_rech_data_6           44.112443\n",
       "fb_user_7                 43.117551\n",
       "date_of_last_rech_data_7  43.117551\n",
       "night_pck_user_7          43.117551\n",
       "count_rech_2g_7           43.117551\n",
       "count_rech_3g_7           43.117551\n",
       "arpu_2g_7                 43.117551\n",
       "arpu_3g_7                 43.117551\n",
       "max_rech_data_7           43.117551\n",
       "loc_ic_mou_8               3.912797\n",
       "std_og_t2c_mou_8           3.912797\n",
       "std_og_mou_8               3.912797\n",
       "isd_og_mou_8               3.912797\n",
       "spl_og_mou_8               3.912797\n",
       "og_others_8                3.912797\n",
       "loc_ic_t2t_mou_8           3.912797\n",
       "loc_ic_t2f_mou_8           3.912797\n",
       "std_ic_t2f_mou_8           3.912797\n",
       "std_ic_t2t_mou_8           3.912797\n",
       "std_ic_t2m_mou_8           3.912797\n",
       "std_ic_mou_8               3.912797\n",
       "spl_ic_mou_8               3.912797\n",
       "isd_ic_mou_8               3.912797\n",
       "ic_others_8                3.912797\n",
       "std_og_t2m_mou_8           3.912797\n",
       "std_og_t2f_mou_8           3.912797\n",
       "std_ic_t2o_mou_8           3.912797\n",
       "loc_og_t2m_mou_8           3.912797\n",
       "loc_og_mou_8               3.912797\n",
       "onnet_mou_8                3.912797\n",
       "offnet_mou_8               3.912797\n",
       "roam_ic_mou_8              3.912797\n",
       "roam_og_mou_8              3.912797\n",
       "loc_og_t2t_mou_8           3.912797\n",
       "loc_og_t2f_mou_8           3.912797"
      ]
     },
     "execution_count": 371,
     "metadata": {},
     "output_type": "execute_result"
    }
   ],
   "source": [
    "null_df.sort_values(by='C',ascending=False).head(50)"
   ]
  },
  {
   "cell_type": "markdown",
   "metadata": {},
   "source": [
    "# Step 3: Null Value Treatment"
   ]
  },
  {
   "cell_type": "markdown",
   "metadata": {},
   "source": [
    "**Dealing with the Date columns**"
   ]
  },
  {
   "cell_type": "code",
   "execution_count": 372,
   "metadata": {},
   "outputs": [
    {
     "data": {
      "text/plain": [
       "last_date_of_month_6         0.000000\n",
       "last_date_of_month_7         0.090141\n",
       "last_date_of_month_8         0.550863\n",
       "date_of_last_rech_6          0.243715\n",
       "date_of_last_rech_7          0.327179\n",
       "date_of_last_rech_8          1.943044\n",
       "date_of_last_rech_data_6    44.112443\n",
       "date_of_last_rech_data_7    43.117551\n",
       "date_of_last_rech_data_8    46.799987\n",
       "dtype: float64"
      ]
     },
     "execution_count": 372,
     "metadata": {},
     "output_type": "execute_result"
    }
   ],
   "source": [
    "df[columns_list].isnull().sum()/len(df.index)*100"
   ]
  },
  {
   "cell_type": "code",
   "execution_count": 373,
   "metadata": {},
   "outputs": [
    {
     "data": {
      "text/plain": [
       "6/30/2014    29953\n",
       "Name: last_date_of_month_6, dtype: int64"
      ]
     },
     "execution_count": 373,
     "metadata": {},
     "output_type": "execute_result"
    }
   ],
   "source": [
    "df['last_date_of_month_6'].value_counts()"
   ]
  },
  {
   "cell_type": "code",
   "execution_count": 374,
   "metadata": {},
   "outputs": [
    {
     "data": {
      "text/plain": [
       "7/31/2014    29926\n",
       "Name: last_date_of_month_7, dtype: int64"
      ]
     },
     "execution_count": 374,
     "metadata": {},
     "output_type": "execute_result"
    }
   ],
   "source": [
    "df['last_date_of_month_7'].value_counts()"
   ]
  },
  {
   "cell_type": "code",
   "execution_count": 375,
   "metadata": {},
   "outputs": [
    {
     "data": {
      "text/plain": [
       "6/30/2014    8365\n",
       "6/29/2014    5327\n",
       "6/28/2014    3661\n",
       "6/27/2014    3155\n",
       "6/26/2014    1823\n",
       "6/25/2014    1323\n",
       "6/24/2014    1041\n",
       "6/23/2014     697\n",
       "6/21/2014     638\n",
       "6/14/2014     549\n",
       "6/22/2014     525\n",
       "6/17/2014     454\n",
       "6/20/2014     397\n",
       "6/19/2014     387\n",
       "6/18/2014     387\n",
       "6/12/2014     211\n",
       "6/13/2014     210\n",
       "6/16/2014     203\n",
       "6/15/2014     141\n",
       "6/11/2014      81\n",
       "6/8/2014       60\n",
       "6/7/2014       47\n",
       "6/10/2014      47\n",
       "6/5/2014       33\n",
       "6/9/2014       27\n",
       "6/3/2014       25\n",
       "6/6/2014       24\n",
       "6/4/2014       19\n",
       "6/2/2014       13\n",
       "6/1/2014       10\n",
       "Name: date_of_last_rech_6, dtype: int64"
      ]
     },
     "execution_count": 375,
     "metadata": {},
     "output_type": "execute_result"
    }
   ],
   "source": [
    "df['date_of_last_rech_6'].value_counts()"
   ]
  },
  {
   "cell_type": "markdown",
   "metadata": {},
   "source": [
    "**Based on the date columns, we are doing the following:**\n",
    "1. Dropping the columns: date_of_last_rech_data because there are too many nulls (>40%) in these columns and no imputation method will be suitable for this column as it represents the last date of data recharge. \n",
    "2. Dropping the null rows for columns: date_of_last_rech because it is less 2 percent data and can be removed.\n",
    "3. Imputing the null rows for columns: last_date_of_month with the respective last date of each month. It will be used."
   ]
  },
  {
   "cell_type": "markdown",
   "metadata": {},
   "source": [
    "**For other continuous columns which have null values, we are imputing them as zeros.**"
   ]
  },
  {
   "cell_type": "code",
   "execution_count": 376,
   "metadata": {},
   "outputs": [],
   "source": [
    "#Dropping the columns date_of_last_rech_data\n",
    "df = df.drop(['date_of_last_rech_data_6','date_of_last_rech_data_7','date_of_last_rech_data_8'],axis = 1)"
   ]
  },
  {
   "cell_type": "code",
   "execution_count": 377,
   "metadata": {},
   "outputs": [],
   "source": [
    "#Dropping the null rows for columns: date_of_last_rech\n",
    "df = df[~(df['date_of_last_rech_6'].isnull())]\n",
    "df = df[~(df['date_of_last_rech_7'].isnull())]\n",
    "df = df[~(df['date_of_last_rech_8'].isnull())]"
   ]
  },
  {
   "cell_type": "code",
   "execution_count": 378,
   "metadata": {},
   "outputs": [
    {
     "name": "stdout",
     "output_type": "stream",
     "text": [
      "['last_date_of_month_6', 'last_date_of_month_7', 'last_date_of_month_8', 'date_of_last_rech_6', 'date_of_last_rech_7', 'date_of_last_rech_8']\n"
     ]
    }
   ],
   "source": [
    "#Categorical columns\n",
    "columns_list=df.select_dtypes(include=['object']).columns.to_list()\n",
    "print(columns_list)"
   ]
  },
  {
   "cell_type": "code",
   "execution_count": 380,
   "metadata": {},
   "outputs": [
    {
     "name": "stdout",
     "output_type": "stream",
     "text": [
      "['last_date_of_month_6', 'last_date_of_month_7', 'last_date_of_month_8', 'date_of_last_rech_6', 'date_of_last_rech_7', 'date_of_last_rech_8']\n"
     ]
    }
   ],
   "source": [
    "#Categorical columns\n",
    "columns_list=df.select_dtypes(include=['object']).columns.to_list()\n",
    "print(columns_list)"
   ]
  },
  {
   "cell_type": "code",
   "execution_count": 381,
   "metadata": {},
   "outputs": [
    {
     "data": {
      "text/plain": [
       "last_date_of_month_6    0.0\n",
       "last_date_of_month_7    0.0\n",
       "last_date_of_month_8    0.0\n",
       "date_of_last_rech_6     0.0\n",
       "date_of_last_rech_7     0.0\n",
       "date_of_last_rech_8     0.0\n",
       "dtype: float64"
      ]
     },
     "execution_count": 381,
     "metadata": {},
     "output_type": "execute_result"
    }
   ],
   "source": [
    "df[columns_list].isnull().sum()/len(df.index)*100"
   ]
  },
  {
   "cell_type": "code",
   "execution_count": 382,
   "metadata": {},
   "outputs": [
    {
     "data": {
      "text/plain": [
       "(29262, 174)"
      ]
     },
     "execution_count": 382,
     "metadata": {},
     "output_type": "execute_result"
    }
   ],
   "source": [
    "df.shape"
   ]
  },
  {
   "cell_type": "markdown",
   "metadata": {},
   "source": [
    "**As mentioned earlier, the rest of the columns which are continuous in nature can be imputed as zeros.**"
   ]
  },
  {
   "cell_type": "code",
   "execution_count": 383,
   "metadata": {},
   "outputs": [],
   "source": [
    "df = df.fillna(0)"
   ]
  },
  {
   "cell_type": "code",
   "execution_count": 385,
   "metadata": {},
   "outputs": [],
   "source": [
    "null_df = pd.DataFrame(df.isnull().sum()/len(df.index)*100,columns=['C'])"
   ]
  },
  {
   "cell_type": "code",
   "execution_count": 386,
   "metadata": {},
   "outputs": [
    {
     "data": {
      "text/html": [
       "<div>\n",
       "<style scoped>\n",
       "    .dataframe tbody tr th:only-of-type {\n",
       "        vertical-align: middle;\n",
       "    }\n",
       "\n",
       "    .dataframe tbody tr th {\n",
       "        vertical-align: top;\n",
       "    }\n",
       "\n",
       "    .dataframe thead th {\n",
       "        text-align: right;\n",
       "    }\n",
       "</style>\n",
       "<table border=\"1\" class=\"dataframe\">\n",
       "  <thead>\n",
       "    <tr style=\"text-align: right;\">\n",
       "      <th></th>\n",
       "      <th>C</th>\n",
       "    </tr>\n",
       "  </thead>\n",
       "  <tbody>\n",
       "    <tr>\n",
       "      <td>mobile_number</td>\n",
       "      <td>0.0</td>\n",
       "    </tr>\n",
       "    <tr>\n",
       "      <td>total_rech_data_6</td>\n",
       "      <td>0.0</td>\n",
       "    </tr>\n",
       "    <tr>\n",
       "      <td>max_rech_amt_7</td>\n",
       "      <td>0.0</td>\n",
       "    </tr>\n",
       "    <tr>\n",
       "      <td>max_rech_amt_8</td>\n",
       "      <td>0.0</td>\n",
       "    </tr>\n",
       "    <tr>\n",
       "      <td>date_of_last_rech_6</td>\n",
       "      <td>0.0</td>\n",
       "    </tr>\n",
       "    <tr>\n",
       "      <td>date_of_last_rech_7</td>\n",
       "      <td>0.0</td>\n",
       "    </tr>\n",
       "    <tr>\n",
       "      <td>date_of_last_rech_8</td>\n",
       "      <td>0.0</td>\n",
       "    </tr>\n",
       "    <tr>\n",
       "      <td>last_day_rch_amt_6</td>\n",
       "      <td>0.0</td>\n",
       "    </tr>\n",
       "    <tr>\n",
       "      <td>last_day_rch_amt_7</td>\n",
       "      <td>0.0</td>\n",
       "    </tr>\n",
       "    <tr>\n",
       "      <td>last_day_rch_amt_8</td>\n",
       "      <td>0.0</td>\n",
       "    </tr>\n",
       "    <tr>\n",
       "      <td>total_rech_data_7</td>\n",
       "      <td>0.0</td>\n",
       "    </tr>\n",
       "    <tr>\n",
       "      <td>total_rech_amt_8</td>\n",
       "      <td>0.0</td>\n",
       "    </tr>\n",
       "    <tr>\n",
       "      <td>total_rech_data_8</td>\n",
       "      <td>0.0</td>\n",
       "    </tr>\n",
       "    <tr>\n",
       "      <td>max_rech_data_6</td>\n",
       "      <td>0.0</td>\n",
       "    </tr>\n",
       "    <tr>\n",
       "      <td>max_rech_data_7</td>\n",
       "      <td>0.0</td>\n",
       "    </tr>\n",
       "    <tr>\n",
       "      <td>max_rech_data_8</td>\n",
       "      <td>0.0</td>\n",
       "    </tr>\n",
       "    <tr>\n",
       "      <td>count_rech_2g_6</td>\n",
       "      <td>0.0</td>\n",
       "    </tr>\n",
       "    <tr>\n",
       "      <td>count_rech_2g_7</td>\n",
       "      <td>0.0</td>\n",
       "    </tr>\n",
       "    <tr>\n",
       "      <td>count_rech_2g_8</td>\n",
       "      <td>0.0</td>\n",
       "    </tr>\n",
       "    <tr>\n",
       "      <td>count_rech_3g_6</td>\n",
       "      <td>0.0</td>\n",
       "    </tr>\n",
       "    <tr>\n",
       "      <td>max_rech_amt_6</td>\n",
       "      <td>0.0</td>\n",
       "    </tr>\n",
       "    <tr>\n",
       "      <td>total_rech_amt_7</td>\n",
       "      <td>0.0</td>\n",
       "    </tr>\n",
       "    <tr>\n",
       "      <td>count_rech_3g_8</td>\n",
       "      <td>0.0</td>\n",
       "    </tr>\n",
       "    <tr>\n",
       "      <td>spl_ic_mou_8</td>\n",
       "      <td>0.0</td>\n",
       "    </tr>\n",
       "    <tr>\n",
       "      <td>std_ic_mou_6</td>\n",
       "      <td>0.0</td>\n",
       "    </tr>\n",
       "    <tr>\n",
       "      <td>std_ic_mou_7</td>\n",
       "      <td>0.0</td>\n",
       "    </tr>\n",
       "    <tr>\n",
       "      <td>std_ic_mou_8</td>\n",
       "      <td>0.0</td>\n",
       "    </tr>\n",
       "    <tr>\n",
       "      <td>total_ic_mou_6</td>\n",
       "      <td>0.0</td>\n",
       "    </tr>\n",
       "    <tr>\n",
       "      <td>total_ic_mou_7</td>\n",
       "      <td>0.0</td>\n",
       "    </tr>\n",
       "    <tr>\n",
       "      <td>total_ic_mou_8</td>\n",
       "      <td>0.0</td>\n",
       "    </tr>\n",
       "    <tr>\n",
       "      <td>spl_ic_mou_6</td>\n",
       "      <td>0.0</td>\n",
       "    </tr>\n",
       "    <tr>\n",
       "      <td>spl_ic_mou_7</td>\n",
       "      <td>0.0</td>\n",
       "    </tr>\n",
       "    <tr>\n",
       "      <td>isd_ic_mou_6</td>\n",
       "      <td>0.0</td>\n",
       "    </tr>\n",
       "    <tr>\n",
       "      <td>total_rech_amt_6</td>\n",
       "      <td>0.0</td>\n",
       "    </tr>\n",
       "    <tr>\n",
       "      <td>isd_ic_mou_7</td>\n",
       "      <td>0.0</td>\n",
       "    </tr>\n",
       "    <tr>\n",
       "      <td>isd_ic_mou_8</td>\n",
       "      <td>0.0</td>\n",
       "    </tr>\n",
       "    <tr>\n",
       "      <td>ic_others_6</td>\n",
       "      <td>0.0</td>\n",
       "    </tr>\n",
       "    <tr>\n",
       "      <td>ic_others_7</td>\n",
       "      <td>0.0</td>\n",
       "    </tr>\n",
       "    <tr>\n",
       "      <td>ic_others_8</td>\n",
       "      <td>0.0</td>\n",
       "    </tr>\n",
       "    <tr>\n",
       "      <td>total_rech_num_6</td>\n",
       "      <td>0.0</td>\n",
       "    </tr>\n",
       "    <tr>\n",
       "      <td>total_rech_num_7</td>\n",
       "      <td>0.0</td>\n",
       "    </tr>\n",
       "    <tr>\n",
       "      <td>total_rech_num_8</td>\n",
       "      <td>0.0</td>\n",
       "    </tr>\n",
       "    <tr>\n",
       "      <td>count_rech_3g_7</td>\n",
       "      <td>0.0</td>\n",
       "    </tr>\n",
       "    <tr>\n",
       "      <td>av_rech_amt_data_6</td>\n",
       "      <td>0.0</td>\n",
       "    </tr>\n",
       "    <tr>\n",
       "      <td>circle_id</td>\n",
       "      <td>0.0</td>\n",
       "    </tr>\n",
       "    <tr>\n",
       "      <td>fb_user_8</td>\n",
       "      <td>0.0</td>\n",
       "    </tr>\n",
       "    <tr>\n",
       "      <td>monthly_3g_6</td>\n",
       "      <td>0.0</td>\n",
       "    </tr>\n",
       "    <tr>\n",
       "      <td>monthly_3g_7</td>\n",
       "      <td>0.0</td>\n",
       "    </tr>\n",
       "    <tr>\n",
       "      <td>monthly_3g_8</td>\n",
       "      <td>0.0</td>\n",
       "    </tr>\n",
       "    <tr>\n",
       "      <td>sachet_3g_6</td>\n",
       "      <td>0.0</td>\n",
       "    </tr>\n",
       "  </tbody>\n",
       "</table>\n",
       "</div>"
      ],
      "text/plain": [
       "                       C\n",
       "mobile_number        0.0\n",
       "total_rech_data_6    0.0\n",
       "max_rech_amt_7       0.0\n",
       "max_rech_amt_8       0.0\n",
       "date_of_last_rech_6  0.0\n",
       "date_of_last_rech_7  0.0\n",
       "date_of_last_rech_8  0.0\n",
       "last_day_rch_amt_6   0.0\n",
       "last_day_rch_amt_7   0.0\n",
       "last_day_rch_amt_8   0.0\n",
       "total_rech_data_7    0.0\n",
       "total_rech_amt_8     0.0\n",
       "total_rech_data_8    0.0\n",
       "max_rech_data_6      0.0\n",
       "max_rech_data_7      0.0\n",
       "max_rech_data_8      0.0\n",
       "count_rech_2g_6      0.0\n",
       "count_rech_2g_7      0.0\n",
       "count_rech_2g_8      0.0\n",
       "count_rech_3g_6      0.0\n",
       "max_rech_amt_6       0.0\n",
       "total_rech_amt_7     0.0\n",
       "count_rech_3g_8      0.0\n",
       "spl_ic_mou_8         0.0\n",
       "std_ic_mou_6         0.0\n",
       "std_ic_mou_7         0.0\n",
       "std_ic_mou_8         0.0\n",
       "total_ic_mou_6       0.0\n",
       "total_ic_mou_7       0.0\n",
       "total_ic_mou_8       0.0\n",
       "spl_ic_mou_6         0.0\n",
       "spl_ic_mou_7         0.0\n",
       "isd_ic_mou_6         0.0\n",
       "total_rech_amt_6     0.0\n",
       "isd_ic_mou_7         0.0\n",
       "isd_ic_mou_8         0.0\n",
       "ic_others_6          0.0\n",
       "ic_others_7          0.0\n",
       "ic_others_8          0.0\n",
       "total_rech_num_6     0.0\n",
       "total_rech_num_7     0.0\n",
       "total_rech_num_8     0.0\n",
       "count_rech_3g_7      0.0\n",
       "av_rech_amt_data_6   0.0\n",
       "circle_id            0.0\n",
       "fb_user_8            0.0\n",
       "monthly_3g_6         0.0\n",
       "monthly_3g_7         0.0\n",
       "monthly_3g_8         0.0\n",
       "sachet_3g_6          0.0"
      ]
     },
     "execution_count": 386,
     "metadata": {},
     "output_type": "execute_result"
    }
   ],
   "source": [
    "null_df.sort_values(by='C',ascending=False).head(50)"
   ]
  },
  {
   "cell_type": "markdown",
   "metadata": {},
   "source": [
    "# Step 4: Exploratory Data Analysis"
   ]
  },
  {
   "cell_type": "markdown",
   "metadata": {},
   "source": [
    "**Combining all the columns of 6 & 7 into new columns for the good phase having avg values.**"
   ]
  },
  {
   "cell_type": "code",
   "execution_count": null,
   "metadata": {},
   "outputs": [],
   "source": []
  },
  {
   "cell_type": "code",
   "execution_count": 390,
   "metadata": {},
   "outputs": [],
   "source": [
    "# total_ic_mou\n",
    "df['total_ic_mou_drop']= ((df['total_ic_mou_6']+df['total_ic_mou_7'])/2)"
   ]
  },
  {
   "cell_type": "code",
   "execution_count": 391,
   "metadata": {},
   "outputs": [
    {
     "data": {
      "text/plain": [
       "<AxesSubplot:xlabel='churn', ylabel='total_ic_mou_drop'>"
      ]
     },
     "execution_count": 391,
     "metadata": {},
     "output_type": "execute_result"
    },
    {
     "data": {
      "image/png": "[encoded data removed]",
      "text/plain": [
       "<Figure size 432x288 with 1 Axes>"
      ]
     },
     "metadata": {
      "needs_background": "light"
     },
     "output_type": "display_data"
    }
   ],
   "source": [
    "sns.boxplot(x='churn',y='total_ic_mou_drop',data=df)"
   ]
  },
  {
   "cell_type": "code",
   "execution_count": null,
   "metadata": {},
   "outputs": [],
   "source": [
    "#Data Imbalance Treatment: Rahul"
   ]
  },
  {
   "cell_type": "code",
   "execution_count": 58,
   "metadata": {},
   "outputs": [],
   "source": [
    "#Prepare Model 1: without PCA: Sumiran"
   ]
  },
  {
   "cell_type": "code",
   "execution_count": null,
   "metadata": {},
   "outputs": [],
   "source": [
    "#Prepare Model 2: with PCA"
   ]
  }
 ],
 "metadata": {
  "kernelspec": {
   "display_name": "Python 3",
   "language": "python",
   "name": "python3"
  },
  "language_info": {
   "codemirror_mode": {
    "name": "ipython",
    "version": 3
   },
   "file_extension": ".py",
   "mimetype": "text/x-python",
   "name": "python",
   "nbconvert_exporter": "python",
   "pygments_lexer": "ipython3",
   "version": "3.7.4"
  }
 },
 "nbformat": 4,
 "nbformat_minor": 2
}
